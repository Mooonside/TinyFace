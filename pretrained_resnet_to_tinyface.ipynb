{
 "cells": [
  {
   "cell_type": "code",
   "execution_count": 1,
   "metadata": {},
   "outputs": [],
   "source": [
    "from tensorflow.python.tools.inspect_checkpoint import print_tensors_in_checkpoint_file\n",
    "from tensorflow.python import pywrap_tensorflow\n",
    "from tensorflow.python.platform import app\n",
    "from tensorflow.python.platform import flags\n",
    "import tensorflow as tf"
   ]
  },
  {
   "cell_type": "code",
   "execution_count": 2,
   "metadata": {},
   "outputs": [],
   "source": [
    "ckpt_path = '/media/yifeng/Yifeng_Seagate/Pretrained-ckpts/resnet_v1_50.ckpt'"
   ]
  },
  {
   "cell_type": "code",
   "execution_count": 3,
   "metadata": {},
   "outputs": [],
   "source": [
    "res_reader = pywrap_tensorflow.NewCheckpointReader(ckpt_path)\n",
    "res_var_to_shape_map = res_reader.get_variable_to_shape_map()\n",
    "res_var_to_dtype_map = res_reader.get_variable_to_dtype_map()\n",
    "res_tensor_names = sorted(res_var_to_shape_map.keys())"
   ]
  },
  {
   "cell_type": "code",
   "execution_count": 4,
   "metadata": {},
   "outputs": [],
   "source": [
    "tf_variables = [tf.get_variable(\n",
    "    dtype = res_var_to_dtype_map[name],\n",
    "    initializer = res_reader.get_tensor(name),\n",
    "    name = name.replace('resnet_v1_50','tf_res50_net')\n",
    ") for name in res_tensor_names ]"
   ]
  },
  {
   "cell_type": "code",
   "execution_count": 5,
   "metadata": {},
   "outputs": [],
   "source": [
    "sess = tf.Session()"
   ]
  },
  {
   "cell_type": "code",
   "execution_count": 19,
   "metadata": {},
   "outputs": [],
   "source": [
    "saver = tf.train.Saver()"
   ]
  },
  {
   "cell_type": "code",
   "execution_count": 33,
   "metadata": {},
   "outputs": [
    {
     "data": {
      "text/plain": [
       "'/media/yifeng/Yifeng_Seagate/Pretrained-ckpts/tf_res50/res50_init.ckpt'"
      ]
     },
     "execution_count": 33,
     "metadata": {},
     "output_type": "execute_result"
    }
   ],
   "source": [
    "ckpt = tf.train.get_checkpoint_state('/media/yifeng/Yifeng_Seagate/Pretrained-ckpts/tf_res50/')\n",
    "ckpt.model_checkpoint_path"
   ]
  },
  {
   "cell_type": "code",
   "execution_count": 6,
   "metadata": {},
   "outputs": [
    {
     "data": {
      "text/plain": [
       "'/media/yifeng/Yifeng_Seagate/Pretrained-ckpts/tf_res50/res50_init.ckpt'"
      ]
     },
     "execution_count": 6,
     "metadata": {},
     "output_type": "execute_result"
    }
   ],
   "source": [
    "saver = tf.train.Saver()    \n",
    "sess.run(tf.global_variables_initializer())\n",
    "saver.save(sess, '/media/yifeng/Yifeng_Seagate/Pretrained-ckpts/tf_res50/res50_init.ckpt')"
   ]
  },
  {
   "cell_type": "code",
   "execution_count": 10,
   "metadata": {},
   "outputs": [],
   "source": [
    "file = open('/media/yifeng/Yifeng_Seagate/Pretrained-ckpts/tf_res50/init_var.txt','w')\n",
    "for i in tf.global_variables():\n",
    "    file.write(i.name[:-2]+'\\n')\n",
    "file.close()"
   ]
  },
  {
   "cell_type": "code",
   "execution_count": 15,
   "metadata": {},
   "outputs": [
    {
     "ename": "NotFoundError",
     "evalue": "Unsuccessful TensorSliceReader constructor: Failed to find any matching files for /media/yifeng/Yifeng_Seagate/Pretrained-ckpts/tf_res50/",
     "output_type": "error",
     "traceback": [
      "\u001b[0;31m---------------------------------------------------------------------------\u001b[0m",
      "\u001b[0;31mNotFoundError\u001b[0m                             Traceback (most recent call last)",
      "\u001b[0;32m<ipython-input-15-ade6e078ad6a>\u001b[0m in \u001b[0;36m<module>\u001b[0;34m()\u001b[0m\n\u001b[0;32m----> 1\u001b[0;31m \u001b[0mres_reader\u001b[0m \u001b[0;34m=\u001b[0m \u001b[0mpywrap_tensorflow\u001b[0m\u001b[0;34m.\u001b[0m\u001b[0mNewCheckpointReader\u001b[0m\u001b[0;34m(\u001b[0m\u001b[0;34m'/media/yifeng/Yifeng_Seagate/Pretrained-ckpts/tf_res50/'\u001b[0m\u001b[0;34m)\u001b[0m\u001b[0;34m\u001b[0m\u001b[0m\n\u001b[0m\u001b[1;32m      2\u001b[0m \u001b[0mres_var_to_shape_map\u001b[0m \u001b[0;34m=\u001b[0m \u001b[0mres_reader\u001b[0m\u001b[0;34m.\u001b[0m\u001b[0mget_variable_to_shape_map\u001b[0m\u001b[0;34m(\u001b[0m\u001b[0;34m)\u001b[0m\u001b[0;34m\u001b[0m\u001b[0m\n\u001b[1;32m      3\u001b[0m \u001b[0mres_tensor_names\u001b[0m \u001b[0;34m=\u001b[0m \u001b[0msorted\u001b[0m\u001b[0;34m(\u001b[0m\u001b[0mres_var_to_shape_map\u001b[0m\u001b[0;34m.\u001b[0m\u001b[0mkeys\u001b[0m\u001b[0;34m(\u001b[0m\u001b[0;34m)\u001b[0m\u001b[0;34m)\u001b[0m\u001b[0;34m\u001b[0m\u001b[0m\n",
      "\u001b[0;32m/usr/local/lib/python3.5/dist-packages/tensorflow/python/pywrap_tensorflow_internal.py\u001b[0m in \u001b[0;36mNewCheckpointReader\u001b[0;34m(filepattern)\u001b[0m\n\u001b[1;32m    148\u001b[0m   \u001b[0;32mwith\u001b[0m \u001b[0merrors\u001b[0m\u001b[0;34m.\u001b[0m\u001b[0mraise_exception_on_not_ok_status\u001b[0m\u001b[0;34m(\u001b[0m\u001b[0;34m)\u001b[0m \u001b[0;32mas\u001b[0m \u001b[0mstatus\u001b[0m\u001b[0;34m:\u001b[0m\u001b[0;34m\u001b[0m\u001b[0m\n\u001b[1;32m    149\u001b[0m     \u001b[0;32mfrom\u001b[0m \u001b[0mtensorflow\u001b[0m\u001b[0;34m.\u001b[0m\u001b[0mpython\u001b[0m\u001b[0;34m.\u001b[0m\u001b[0mutil\u001b[0m \u001b[0;32mimport\u001b[0m \u001b[0mcompat\u001b[0m\u001b[0;34m\u001b[0m\u001b[0m\n\u001b[0;32m--> 150\u001b[0;31m     \u001b[0;32mreturn\u001b[0m \u001b[0mCheckpointReader\u001b[0m\u001b[0;34m(\u001b[0m\u001b[0mcompat\u001b[0m\u001b[0;34m.\u001b[0m\u001b[0mas_bytes\u001b[0m\u001b[0;34m(\u001b[0m\u001b[0mfilepattern\u001b[0m\u001b[0;34m)\u001b[0m\u001b[0;34m,\u001b[0m \u001b[0mstatus\u001b[0m\u001b[0;34m)\u001b[0m\u001b[0;34m\u001b[0m\u001b[0m\n\u001b[0m\u001b[1;32m    151\u001b[0m \u001b[0;34m\u001b[0m\u001b[0m\n\u001b[1;32m    152\u001b[0m \u001b[0;32mclass\u001b[0m \u001b[0mCheckpointReader\u001b[0m\u001b[0;34m(\u001b[0m\u001b[0m_object\u001b[0m\u001b[0;34m)\u001b[0m\u001b[0;34m:\u001b[0m\u001b[0;34m\u001b[0m\u001b[0m\n",
      "\u001b[0;32m/usr/local/lib/python3.5/dist-packages/tensorflow/python/framework/errors_impl.py\u001b[0m in \u001b[0;36m__exit__\u001b[0;34m(self, type_arg, value_arg, traceback_arg)\u001b[0m\n\u001b[1;32m    471\u001b[0m             \u001b[0;32mNone\u001b[0m\u001b[0;34m,\u001b[0m \u001b[0;32mNone\u001b[0m\u001b[0;34m,\u001b[0m\u001b[0;34m\u001b[0m\u001b[0m\n\u001b[1;32m    472\u001b[0m             \u001b[0mcompat\u001b[0m\u001b[0;34m.\u001b[0m\u001b[0mas_text\u001b[0m\u001b[0;34m(\u001b[0m\u001b[0mc_api\u001b[0m\u001b[0;34m.\u001b[0m\u001b[0mTF_Message\u001b[0m\u001b[0;34m(\u001b[0m\u001b[0mself\u001b[0m\u001b[0;34m.\u001b[0m\u001b[0mstatus\u001b[0m\u001b[0;34m.\u001b[0m\u001b[0mstatus\u001b[0m\u001b[0;34m)\u001b[0m\u001b[0;34m)\u001b[0m\u001b[0;34m,\u001b[0m\u001b[0;34m\u001b[0m\u001b[0m\n\u001b[0;32m--> 473\u001b[0;31m             c_api.TF_GetCode(self.status.status))\n\u001b[0m\u001b[1;32m    474\u001b[0m     \u001b[0;31m# Delete the underlying status object from memory otherwise it stays alive\u001b[0m\u001b[0;34m\u001b[0m\u001b[0;34m\u001b[0m\u001b[0m\n\u001b[1;32m    475\u001b[0m     \u001b[0;31m# as there is a reference to status from this from the traceback due to\u001b[0m\u001b[0;34m\u001b[0m\u001b[0;34m\u001b[0m\u001b[0m\n",
      "\u001b[0;31mNotFoundError\u001b[0m: Unsuccessful TensorSliceReader constructor: Failed to find any matching files for /media/yifeng/Yifeng_Seagate/Pretrained-ckpts/tf_res50/"
     ]
    }
   ],
   "source": [
    "res_reader = pywrap_tensorflow.NewCheckpointReader('/media/yifeng/Yifeng_Seagate/Pretrained-ckpts/tf_res50/')\n",
    "res_var_to_shape_map = res_reader.get_variable_to_shape_map()\n",
    "res_tensor_names = sorted(res_var_to_shape_map.keys())"
   ]
  },
  {
   "cell_type": "code",
   "execution_count": 18,
   "metadata": {},
   "outputs": [
    {
     "name": "stdout",
     "output_type": "stream",
     "text": [
      "global_step (DT_INT64) []\n",
      "tf_res50_net/block1/unit_1/bottleneck_v1/conv1/BatchNorm/beta (DT_FLOAT) [64]\n",
      "tf_res50_net/block1/unit_1/bottleneck_v1/conv1/BatchNorm/gamma (DT_FLOAT) [64]\n",
      "tf_res50_net/block1/unit_1/bottleneck_v1/conv1/BatchNorm/moving_mean (DT_FLOAT) [64]\n",
      "tf_res50_net/block1/unit_1/bottleneck_v1/conv1/BatchNorm/moving_variance (DT_FLOAT) [64]\n",
      "tf_res50_net/block1/unit_1/bottleneck_v1/conv1/weights (DT_FLOAT) [1,1,64,64]\n",
      "tf_res50_net/block1/unit_1/bottleneck_v1/conv2/BatchNorm/beta (DT_FLOAT) [64]\n",
      "tf_res50_net/block1/unit_1/bottleneck_v1/conv2/BatchNorm/gamma (DT_FLOAT) [64]\n",
      "tf_res50_net/block1/unit_1/bottleneck_v1/conv2/BatchNorm/moving_mean (DT_FLOAT) [64]\n",
      "tf_res50_net/block1/unit_1/bottleneck_v1/conv2/BatchNorm/moving_variance (DT_FLOAT) [64]\n",
      "tf_res50_net/block1/unit_1/bottleneck_v1/conv2/weights (DT_FLOAT) [3,3,64,64]\n",
      "tf_res50_net/block1/unit_1/bottleneck_v1/conv3/BatchNorm/beta (DT_FLOAT) [256]\n",
      "tf_res50_net/block1/unit_1/bottleneck_v1/conv3/BatchNorm/gamma (DT_FLOAT) [256]\n",
      "tf_res50_net/block1/unit_1/bottleneck_v1/conv3/BatchNorm/moving_mean (DT_FLOAT) [256]\n",
      "tf_res50_net/block1/unit_1/bottleneck_v1/conv3/BatchNorm/moving_variance (DT_FLOAT) [256]\n",
      "tf_res50_net/block1/unit_1/bottleneck_v1/conv3/weights (DT_FLOAT) [1,1,64,256]\n",
      "tf_res50_net/block1/unit_1/bottleneck_v1/shortcut/BatchNorm/beta (DT_FLOAT) [256]\n",
      "tf_res50_net/block1/unit_1/bottleneck_v1/shortcut/BatchNorm/gamma (DT_FLOAT) [256]\n",
      "tf_res50_net/block1/unit_1/bottleneck_v1/shortcut/BatchNorm/moving_mean (DT_FLOAT) [256]\n",
      "tf_res50_net/block1/unit_1/bottleneck_v1/shortcut/BatchNorm/moving_variance (DT_FLOAT) [256]\n",
      "tf_res50_net/block1/unit_1/bottleneck_v1/shortcut/weights (DT_FLOAT) [1,1,64,256]\n",
      "tf_res50_net/block1/unit_2/bottleneck_v1/conv1/BatchNorm/beta (DT_FLOAT) [64]\n",
      "tf_res50_net/block1/unit_2/bottleneck_v1/conv1/BatchNorm/gamma (DT_FLOAT) [64]\n",
      "tf_res50_net/block1/unit_2/bottleneck_v1/conv1/BatchNorm/moving_mean (DT_FLOAT) [64]\n",
      "tf_res50_net/block1/unit_2/bottleneck_v1/conv1/BatchNorm/moving_variance (DT_FLOAT) [64]\n",
      "tf_res50_net/block1/unit_2/bottleneck_v1/conv1/weights (DT_FLOAT) [1,1,256,64]\n",
      "tf_res50_net/block1/unit_2/bottleneck_v1/conv2/BatchNorm/beta (DT_FLOAT) [64]\n",
      "tf_res50_net/block1/unit_2/bottleneck_v1/conv2/BatchNorm/gamma (DT_FLOAT) [64]\n",
      "tf_res50_net/block1/unit_2/bottleneck_v1/conv2/BatchNorm/moving_mean (DT_FLOAT) [64]\n",
      "tf_res50_net/block1/unit_2/bottleneck_v1/conv2/BatchNorm/moving_variance (DT_FLOAT) [64]\n",
      "tf_res50_net/block1/unit_2/bottleneck_v1/conv2/weights (DT_FLOAT) [3,3,64,64]\n",
      "tf_res50_net/block1/unit_2/bottleneck_v1/conv3/BatchNorm/beta (DT_FLOAT) [256]\n",
      "tf_res50_net/block1/unit_2/bottleneck_v1/conv3/BatchNorm/gamma (DT_FLOAT) [256]\n",
      "tf_res50_net/block1/unit_2/bottleneck_v1/conv3/BatchNorm/moving_mean (DT_FLOAT) [256]\n",
      "tf_res50_net/block1/unit_2/bottleneck_v1/conv3/BatchNorm/moving_variance (DT_FLOAT) [256]\n",
      "tf_res50_net/block1/unit_2/bottleneck_v1/conv3/weights (DT_FLOAT) [1,1,64,256]\n",
      "tf_res50_net/block1/unit_3/bottleneck_v1/conv1/BatchNorm/beta (DT_FLOAT) [64]\n",
      "tf_res50_net/block1/unit_3/bottleneck_v1/conv1/BatchNorm/gamma (DT_FLOAT) [64]\n",
      "tf_res50_net/block1/unit_3/bottleneck_v1/conv1/BatchNorm/moving_mean (DT_FLOAT) [64]\n",
      "tf_res50_net/block1/unit_3/bottleneck_v1/conv1/BatchNorm/moving_variance (DT_FLOAT) [64]\n",
      "tf_res50_net/block1/unit_3/bottleneck_v1/conv1/weights (DT_FLOAT) [1,1,256,64]\n",
      "tf_res50_net/block1/unit_3/bottleneck_v1/conv2/BatchNorm/beta (DT_FLOAT) [64]\n",
      "tf_res50_net/block1/unit_3/bottleneck_v1/conv2/BatchNorm/gamma (DT_FLOAT) [64]\n",
      "tf_res50_net/block1/unit_3/bottleneck_v1/conv2/BatchNorm/moving_mean (DT_FLOAT) [64]\n",
      "tf_res50_net/block1/unit_3/bottleneck_v1/conv2/BatchNorm/moving_variance (DT_FLOAT) [64]\n",
      "tf_res50_net/block1/unit_3/bottleneck_v1/conv2/weights (DT_FLOAT) [3,3,64,64]\n",
      "tf_res50_net/block1/unit_3/bottleneck_v1/conv3/BatchNorm/beta (DT_FLOAT) [256]\n",
      "tf_res50_net/block1/unit_3/bottleneck_v1/conv3/BatchNorm/gamma (DT_FLOAT) [256]\n",
      "tf_res50_net/block1/unit_3/bottleneck_v1/conv3/BatchNorm/moving_mean (DT_FLOAT) [256]\n",
      "tf_res50_net/block1/unit_3/bottleneck_v1/conv3/BatchNorm/moving_variance (DT_FLOAT) [256]\n",
      "tf_res50_net/block1/unit_3/bottleneck_v1/conv3/weights (DT_FLOAT) [1,1,64,256]\n",
      "tf_res50_net/block2/unit_1/bottleneck_v1/conv1/BatchNorm/beta (DT_FLOAT) [128]\n",
      "tf_res50_net/block2/unit_1/bottleneck_v1/conv1/BatchNorm/gamma (DT_FLOAT) [128]\n",
      "tf_res50_net/block2/unit_1/bottleneck_v1/conv1/BatchNorm/moving_mean (DT_FLOAT) [128]\n",
      "tf_res50_net/block2/unit_1/bottleneck_v1/conv1/BatchNorm/moving_variance (DT_FLOAT) [128]\n",
      "tf_res50_net/block2/unit_1/bottleneck_v1/conv1/weights (DT_FLOAT) [1,1,256,128]\n",
      "tf_res50_net/block2/unit_1/bottleneck_v1/conv2/BatchNorm/beta (DT_FLOAT) [128]\n",
      "tf_res50_net/block2/unit_1/bottleneck_v1/conv2/BatchNorm/gamma (DT_FLOAT) [128]\n",
      "tf_res50_net/block2/unit_1/bottleneck_v1/conv2/BatchNorm/moving_mean (DT_FLOAT) [128]\n",
      "tf_res50_net/block2/unit_1/bottleneck_v1/conv2/BatchNorm/moving_variance (DT_FLOAT) [128]\n",
      "tf_res50_net/block2/unit_1/bottleneck_v1/conv2/weights (DT_FLOAT) [3,3,128,128]\n",
      "tf_res50_net/block2/unit_1/bottleneck_v1/conv3/BatchNorm/beta (DT_FLOAT) [512]\n",
      "tf_res50_net/block2/unit_1/bottleneck_v1/conv3/BatchNorm/gamma (DT_FLOAT) [512]\n",
      "tf_res50_net/block2/unit_1/bottleneck_v1/conv3/BatchNorm/moving_mean (DT_FLOAT) [512]\n",
      "tf_res50_net/block2/unit_1/bottleneck_v1/conv3/BatchNorm/moving_variance (DT_FLOAT) [512]\n",
      "tf_res50_net/block2/unit_1/bottleneck_v1/conv3/weights (DT_FLOAT) [1,1,128,512]\n",
      "tf_res50_net/block2/unit_1/bottleneck_v1/shortcut/BatchNorm/beta (DT_FLOAT) [512]\n",
      "tf_res50_net/block2/unit_1/bottleneck_v1/shortcut/BatchNorm/gamma (DT_FLOAT) [512]\n",
      "tf_res50_net/block2/unit_1/bottleneck_v1/shortcut/BatchNorm/moving_mean (DT_FLOAT) [512]\n",
      "tf_res50_net/block2/unit_1/bottleneck_v1/shortcut/BatchNorm/moving_variance (DT_FLOAT) [512]\n",
      "tf_res50_net/block2/unit_1/bottleneck_v1/shortcut/weights (DT_FLOAT) [1,1,256,512]\n",
      "tf_res50_net/block2/unit_2/bottleneck_v1/conv1/BatchNorm/beta (DT_FLOAT) [128]\n",
      "tf_res50_net/block2/unit_2/bottleneck_v1/conv1/BatchNorm/gamma (DT_FLOAT) [128]\n",
      "tf_res50_net/block2/unit_2/bottleneck_v1/conv1/BatchNorm/moving_mean (DT_FLOAT) [128]\n",
      "tf_res50_net/block2/unit_2/bottleneck_v1/conv1/BatchNorm/moving_variance (DT_FLOAT) [128]\n",
      "tf_res50_net/block2/unit_2/bottleneck_v1/conv1/weights (DT_FLOAT) [1,1,512,128]\n",
      "tf_res50_net/block2/unit_2/bottleneck_v1/conv2/BatchNorm/beta (DT_FLOAT) [128]\n",
      "tf_res50_net/block2/unit_2/bottleneck_v1/conv2/BatchNorm/gamma (DT_FLOAT) [128]\n",
      "tf_res50_net/block2/unit_2/bottleneck_v1/conv2/BatchNorm/moving_mean (DT_FLOAT) [128]\n",
      "tf_res50_net/block2/unit_2/bottleneck_v1/conv2/BatchNorm/moving_variance (DT_FLOAT) [128]\n",
      "tf_res50_net/block2/unit_2/bottleneck_v1/conv2/weights (DT_FLOAT) [3,3,128,128]\n",
      "tf_res50_net/block2/unit_2/bottleneck_v1/conv3/BatchNorm/beta (DT_FLOAT) [512]\n",
      "tf_res50_net/block2/unit_2/bottleneck_v1/conv3/BatchNorm/gamma (DT_FLOAT) [512]\n",
      "tf_res50_net/block2/unit_2/bottleneck_v1/conv3/BatchNorm/moving_mean (DT_FLOAT) [512]\n",
      "tf_res50_net/block2/unit_2/bottleneck_v1/conv3/BatchNorm/moving_variance (DT_FLOAT) [512]\n",
      "tf_res50_net/block2/unit_2/bottleneck_v1/conv3/weights (DT_FLOAT) [1,1,128,512]\n",
      "tf_res50_net/block2/unit_3/bottleneck_v1/conv1/BatchNorm/beta (DT_FLOAT) [128]\n",
      "tf_res50_net/block2/unit_3/bottleneck_v1/conv1/BatchNorm/gamma (DT_FLOAT) [128]\n",
      "tf_res50_net/block2/unit_3/bottleneck_v1/conv1/BatchNorm/moving_mean (DT_FLOAT) [128]\n",
      "tf_res50_net/block2/unit_3/bottleneck_v1/conv1/BatchNorm/moving_variance (DT_FLOAT) [128]\n",
      "tf_res50_net/block2/unit_3/bottleneck_v1/conv1/weights (DT_FLOAT) [1,1,512,128]\n",
      "tf_res50_net/block2/unit_3/bottleneck_v1/conv2/BatchNorm/beta (DT_FLOAT) [128]\n",
      "tf_res50_net/block2/unit_3/bottleneck_v1/conv2/BatchNorm/gamma (DT_FLOAT) [128]\n",
      "tf_res50_net/block2/unit_3/bottleneck_v1/conv2/BatchNorm/moving_mean (DT_FLOAT) [128]\n",
      "tf_res50_net/block2/unit_3/bottleneck_v1/conv2/BatchNorm/moving_variance (DT_FLOAT) [128]\n",
      "tf_res50_net/block2/unit_3/bottleneck_v1/conv2/weights (DT_FLOAT) [3,3,128,128]\n",
      "tf_res50_net/block2/unit_3/bottleneck_v1/conv3/BatchNorm/beta (DT_FLOAT) [512]\n",
      "tf_res50_net/block2/unit_3/bottleneck_v1/conv3/BatchNorm/gamma (DT_FLOAT) [512]\n",
      "tf_res50_net/block2/unit_3/bottleneck_v1/conv3/BatchNorm/moving_mean (DT_FLOAT) [512]\n",
      "tf_res50_net/block2/unit_3/bottleneck_v1/conv3/BatchNorm/moving_variance (DT_FLOAT) [512]\n",
      "tf_res50_net/block2/unit_3/bottleneck_v1/conv3/weights (DT_FLOAT) [1,1,128,512]\n",
      "tf_res50_net/block2/unit_4/bottleneck_v1/conv1/BatchNorm/beta (DT_FLOAT) [128]\n",
      "tf_res50_net/block2/unit_4/bottleneck_v1/conv1/BatchNorm/gamma (DT_FLOAT) [128]\n",
      "tf_res50_net/block2/unit_4/bottleneck_v1/conv1/BatchNorm/moving_mean (DT_FLOAT) [128]\n",
      "tf_res50_net/block2/unit_4/bottleneck_v1/conv1/BatchNorm/moving_variance (DT_FLOAT) [128]\n",
      "tf_res50_net/block2/unit_4/bottleneck_v1/conv1/weights (DT_FLOAT) [1,1,512,128]\n",
      "tf_res50_net/block2/unit_4/bottleneck_v1/conv2/BatchNorm/beta (DT_FLOAT) [128]\n",
      "tf_res50_net/block2/unit_4/bottleneck_v1/conv2/BatchNorm/gamma (DT_FLOAT) [128]\n",
      "tf_res50_net/block2/unit_4/bottleneck_v1/conv2/BatchNorm/moving_mean (DT_FLOAT) [128]\n",
      "tf_res50_net/block2/unit_4/bottleneck_v1/conv2/BatchNorm/moving_variance (DT_FLOAT) [128]\n",
      "tf_res50_net/block2/unit_4/bottleneck_v1/conv2/weights (DT_FLOAT) [3,3,128,128]\n",
      "tf_res50_net/block2/unit_4/bottleneck_v1/conv3/BatchNorm/beta (DT_FLOAT) [512]\n",
      "tf_res50_net/block2/unit_4/bottleneck_v1/conv3/BatchNorm/gamma (DT_FLOAT) [512]\n",
      "tf_res50_net/block2/unit_4/bottleneck_v1/conv3/BatchNorm/moving_mean (DT_FLOAT) [512]\n",
      "tf_res50_net/block2/unit_4/bottleneck_v1/conv3/BatchNorm/moving_variance (DT_FLOAT) [512]\n",
      "tf_res50_net/block2/unit_4/bottleneck_v1/conv3/weights (DT_FLOAT) [1,1,128,512]\n",
      "tf_res50_net/block3/unit_1/bottleneck_v1/conv1/BatchNorm/beta (DT_FLOAT) [256]\n",
      "tf_res50_net/block3/unit_1/bottleneck_v1/conv1/BatchNorm/gamma (DT_FLOAT) [256]\n",
      "tf_res50_net/block3/unit_1/bottleneck_v1/conv1/BatchNorm/moving_mean (DT_FLOAT) [256]\n",
      "tf_res50_net/block3/unit_1/bottleneck_v1/conv1/BatchNorm/moving_variance (DT_FLOAT) [256]\n",
      "tf_res50_net/block3/unit_1/bottleneck_v1/conv1/weights (DT_FLOAT) [1,1,512,256]\n",
      "tf_res50_net/block3/unit_1/bottleneck_v1/conv2/BatchNorm/beta (DT_FLOAT) [256]\n",
      "tf_res50_net/block3/unit_1/bottleneck_v1/conv2/BatchNorm/gamma (DT_FLOAT) [256]\n",
      "tf_res50_net/block3/unit_1/bottleneck_v1/conv2/BatchNorm/moving_mean (DT_FLOAT) [256]\n",
      "tf_res50_net/block3/unit_1/bottleneck_v1/conv2/BatchNorm/moving_variance (DT_FLOAT) [256]\n",
      "tf_res50_net/block3/unit_1/bottleneck_v1/conv2/weights (DT_FLOAT) [3,3,256,256]\n",
      "tf_res50_net/block3/unit_1/bottleneck_v1/conv3/BatchNorm/beta (DT_FLOAT) [1024]\n",
      "tf_res50_net/block3/unit_1/bottleneck_v1/conv3/BatchNorm/gamma (DT_FLOAT) [1024]\n",
      "tf_res50_net/block3/unit_1/bottleneck_v1/conv3/BatchNorm/moving_mean (DT_FLOAT) [1024]\n",
      "tf_res50_net/block3/unit_1/bottleneck_v1/conv3/BatchNorm/moving_variance (DT_FLOAT) [1024]\n",
      "tf_res50_net/block3/unit_1/bottleneck_v1/conv3/weights (DT_FLOAT) [1,1,256,1024]\n",
      "tf_res50_net/block3/unit_1/bottleneck_v1/shortcut/BatchNorm/beta (DT_FLOAT) [1024]\n",
      "tf_res50_net/block3/unit_1/bottleneck_v1/shortcut/BatchNorm/gamma (DT_FLOAT) [1024]\n",
      "tf_res50_net/block3/unit_1/bottleneck_v1/shortcut/BatchNorm/moving_mean (DT_FLOAT) [1024]\n",
      "tf_res50_net/block3/unit_1/bottleneck_v1/shortcut/BatchNorm/moving_variance (DT_FLOAT) [1024]\n",
      "tf_res50_net/block3/unit_1/bottleneck_v1/shortcut/weights (DT_FLOAT) [1,1,512,1024]\n",
      "tf_res50_net/block3/unit_2/bottleneck_v1/conv1/BatchNorm/beta (DT_FLOAT) [256]\n",
      "tf_res50_net/block3/unit_2/bottleneck_v1/conv1/BatchNorm/gamma (DT_FLOAT) [256]\n",
      "tf_res50_net/block3/unit_2/bottleneck_v1/conv1/BatchNorm/moving_mean (DT_FLOAT) [256]\n",
      "tf_res50_net/block3/unit_2/bottleneck_v1/conv1/BatchNorm/moving_variance (DT_FLOAT) [256]\n",
      "tf_res50_net/block3/unit_2/bottleneck_v1/conv1/weights (DT_FLOAT) [1,1,1024,256]\n",
      "tf_res50_net/block3/unit_2/bottleneck_v1/conv2/BatchNorm/beta (DT_FLOAT) [256]\n",
      "tf_res50_net/block3/unit_2/bottleneck_v1/conv2/BatchNorm/gamma (DT_FLOAT) [256]\n",
      "tf_res50_net/block3/unit_2/bottleneck_v1/conv2/BatchNorm/moving_mean (DT_FLOAT) [256]\n",
      "tf_res50_net/block3/unit_2/bottleneck_v1/conv2/BatchNorm/moving_variance (DT_FLOAT) [256]\n",
      "tf_res50_net/block3/unit_2/bottleneck_v1/conv2/weights (DT_FLOAT) [3,3,256,256]\n",
      "tf_res50_net/block3/unit_2/bottleneck_v1/conv3/BatchNorm/beta (DT_FLOAT) [1024]\n",
      "tf_res50_net/block3/unit_2/bottleneck_v1/conv3/BatchNorm/gamma (DT_FLOAT) [1024]\n",
      "tf_res50_net/block3/unit_2/bottleneck_v1/conv3/BatchNorm/moving_mean (DT_FLOAT) [1024]\n",
      "tf_res50_net/block3/unit_2/bottleneck_v1/conv3/BatchNorm/moving_variance (DT_FLOAT) [1024]\n",
      "tf_res50_net/block3/unit_2/bottleneck_v1/conv3/weights (DT_FLOAT) [1,1,256,1024]\n",
      "tf_res50_net/block3/unit_3/bottleneck_v1/conv1/BatchNorm/beta (DT_FLOAT) [256]\n",
      "tf_res50_net/block3/unit_3/bottleneck_v1/conv1/BatchNorm/gamma (DT_FLOAT) [256]\n",
      "tf_res50_net/block3/unit_3/bottleneck_v1/conv1/BatchNorm/moving_mean (DT_FLOAT) [256]\n",
      "tf_res50_net/block3/unit_3/bottleneck_v1/conv1/BatchNorm/moving_variance (DT_FLOAT) [256]\n",
      "tf_res50_net/block3/unit_3/bottleneck_v1/conv1/weights (DT_FLOAT) [1,1,1024,256]\n",
      "tf_res50_net/block3/unit_3/bottleneck_v1/conv2/BatchNorm/beta (DT_FLOAT) [256]\n",
      "tf_res50_net/block3/unit_3/bottleneck_v1/conv2/BatchNorm/gamma (DT_FLOAT) [256]\n",
      "tf_res50_net/block3/unit_3/bottleneck_v1/conv2/BatchNorm/moving_mean (DT_FLOAT) [256]\n",
      "tf_res50_net/block3/unit_3/bottleneck_v1/conv2/BatchNorm/moving_variance (DT_FLOAT) [256]\n",
      "tf_res50_net/block3/unit_3/bottleneck_v1/conv2/weights (DT_FLOAT) [3,3,256,256]\n",
      "tf_res50_net/block3/unit_3/bottleneck_v1/conv3/BatchNorm/beta (DT_FLOAT) [1024]\n",
      "tf_res50_net/block3/unit_3/bottleneck_v1/conv3/BatchNorm/gamma (DT_FLOAT) [1024]\n",
      "tf_res50_net/block3/unit_3/bottleneck_v1/conv3/BatchNorm/moving_mean (DT_FLOAT) [1024]\n",
      "tf_res50_net/block3/unit_3/bottleneck_v1/conv3/BatchNorm/moving_variance (DT_FLOAT) [1024]\n",
      "tf_res50_net/block3/unit_3/bottleneck_v1/conv3/weights (DT_FLOAT) [1,1,256,1024]\n",
      "tf_res50_net/block3/unit_4/bottleneck_v1/conv1/BatchNorm/beta (DT_FLOAT) [256]\n",
      "tf_res50_net/block3/unit_4/bottleneck_v1/conv1/BatchNorm/gamma (DT_FLOAT) [256]\n",
      "tf_res50_net/block3/unit_4/bottleneck_v1/conv1/BatchNorm/moving_mean (DT_FLOAT) [256]\n",
      "tf_res50_net/block3/unit_4/bottleneck_v1/conv1/BatchNorm/moving_variance (DT_FLOAT) [256]\n",
      "tf_res50_net/block3/unit_4/bottleneck_v1/conv1/weights (DT_FLOAT) [1,1,1024,256]\n",
      "tf_res50_net/block3/unit_4/bottleneck_v1/conv2/BatchNorm/beta (DT_FLOAT) [256]\n",
      "tf_res50_net/block3/unit_4/bottleneck_v1/conv2/BatchNorm/gamma (DT_FLOAT) [256]\n",
      "tf_res50_net/block3/unit_4/bottleneck_v1/conv2/BatchNorm/moving_mean (DT_FLOAT) [256]\n",
      "tf_res50_net/block3/unit_4/bottleneck_v1/conv2/BatchNorm/moving_variance (DT_FLOAT) [256]\n",
      "tf_res50_net/block3/unit_4/bottleneck_v1/conv2/weights (DT_FLOAT) [3,3,256,256]\n",
      "tf_res50_net/block3/unit_4/bottleneck_v1/conv3/BatchNorm/beta (DT_FLOAT) [1024]\n",
      "tf_res50_net/block3/unit_4/bottleneck_v1/conv3/BatchNorm/gamma (DT_FLOAT) [1024]\n",
      "tf_res50_net/block3/unit_4/bottleneck_v1/conv3/BatchNorm/moving_mean (DT_FLOAT) [1024]\n",
      "tf_res50_net/block3/unit_4/bottleneck_v1/conv3/BatchNorm/moving_variance (DT_FLOAT) [1024]\n",
      "tf_res50_net/block3/unit_4/bottleneck_v1/conv3/weights (DT_FLOAT) [1,1,256,1024]\n",
      "tf_res50_net/block3/unit_5/bottleneck_v1/conv1/BatchNorm/beta (DT_FLOAT) [256]\n",
      "tf_res50_net/block3/unit_5/bottleneck_v1/conv1/BatchNorm/gamma (DT_FLOAT) [256]\n",
      "tf_res50_net/block3/unit_5/bottleneck_v1/conv1/BatchNorm/moving_mean (DT_FLOAT) [256]\n",
      "tf_res50_net/block3/unit_5/bottleneck_v1/conv1/BatchNorm/moving_variance (DT_FLOAT) [256]\n",
      "tf_res50_net/block3/unit_5/bottleneck_v1/conv1/weights (DT_FLOAT) [1,1,1024,256]\n",
      "tf_res50_net/block3/unit_5/bottleneck_v1/conv2/BatchNorm/beta (DT_FLOAT) [256]\n",
      "tf_res50_net/block3/unit_5/bottleneck_v1/conv2/BatchNorm/gamma (DT_FLOAT) [256]\n",
      "tf_res50_net/block3/unit_5/bottleneck_v1/conv2/BatchNorm/moving_mean (DT_FLOAT) [256]\n",
      "tf_res50_net/block3/unit_5/bottleneck_v1/conv2/BatchNorm/moving_variance (DT_FLOAT) [256]\n",
      "tf_res50_net/block3/unit_5/bottleneck_v1/conv2/weights (DT_FLOAT) [3,3,256,256]\n",
      "tf_res50_net/block3/unit_5/bottleneck_v1/conv3/BatchNorm/beta (DT_FLOAT) [1024]\n",
      "tf_res50_net/block3/unit_5/bottleneck_v1/conv3/BatchNorm/gamma (DT_FLOAT) [1024]\n",
      "tf_res50_net/block3/unit_5/bottleneck_v1/conv3/BatchNorm/moving_mean (DT_FLOAT) [1024]\n",
      "tf_res50_net/block3/unit_5/bottleneck_v1/conv3/BatchNorm/moving_variance (DT_FLOAT) [1024]\n",
      "tf_res50_net/block3/unit_5/bottleneck_v1/conv3/weights (DT_FLOAT) [1,1,256,1024]\n",
      "tf_res50_net/block3/unit_6/bottleneck_v1/conv1/BatchNorm/beta (DT_FLOAT) [256]\n",
      "tf_res50_net/block3/unit_6/bottleneck_v1/conv1/BatchNorm/gamma (DT_FLOAT) [256]\n",
      "tf_res50_net/block3/unit_6/bottleneck_v1/conv1/BatchNorm/moving_mean (DT_FLOAT) [256]\n",
      "tf_res50_net/block3/unit_6/bottleneck_v1/conv1/BatchNorm/moving_variance (DT_FLOAT) [256]\n",
      "tf_res50_net/block3/unit_6/bottleneck_v1/conv1/weights (DT_FLOAT) [1,1,1024,256]\n",
      "tf_res50_net/block3/unit_6/bottleneck_v1/conv2/BatchNorm/beta (DT_FLOAT) [256]\n",
      "tf_res50_net/block3/unit_6/bottleneck_v1/conv2/BatchNorm/gamma (DT_FLOAT) [256]\n",
      "tf_res50_net/block3/unit_6/bottleneck_v1/conv2/BatchNorm/moving_mean (DT_FLOAT) [256]\n",
      "tf_res50_net/block3/unit_6/bottleneck_v1/conv2/BatchNorm/moving_variance (DT_FLOAT) [256]\n",
      "tf_res50_net/block3/unit_6/bottleneck_v1/conv2/weights (DT_FLOAT) [3,3,256,256]\n",
      "tf_res50_net/block3/unit_6/bottleneck_v1/conv3/BatchNorm/beta (DT_FLOAT) [1024]\n",
      "tf_res50_net/block3/unit_6/bottleneck_v1/conv3/BatchNorm/gamma (DT_FLOAT) [1024]\n",
      "tf_res50_net/block3/unit_6/bottleneck_v1/conv3/BatchNorm/moving_mean (DT_FLOAT) [1024]\n",
      "tf_res50_net/block3/unit_6/bottleneck_v1/conv3/BatchNorm/moving_variance (DT_FLOAT) [1024]\n",
      "tf_res50_net/block3/unit_6/bottleneck_v1/conv3/weights (DT_FLOAT) [1,1,256,1024]\n",
      "tf_res50_net/block4/unit_1/bottleneck_v1/conv1/BatchNorm/beta (DT_FLOAT) [512]\n",
      "tf_res50_net/block4/unit_1/bottleneck_v1/conv1/BatchNorm/gamma (DT_FLOAT) [512]\n",
      "tf_res50_net/block4/unit_1/bottleneck_v1/conv1/BatchNorm/moving_mean (DT_FLOAT) [512]\n",
      "tf_res50_net/block4/unit_1/bottleneck_v1/conv1/BatchNorm/moving_variance (DT_FLOAT) [512]\n",
      "tf_res50_net/block4/unit_1/bottleneck_v1/conv1/weights (DT_FLOAT) [1,1,1024,512]\n",
      "tf_res50_net/block4/unit_1/bottleneck_v1/conv2/BatchNorm/beta (DT_FLOAT) [512]\n",
      "tf_res50_net/block4/unit_1/bottleneck_v1/conv2/BatchNorm/gamma (DT_FLOAT) [512]\n",
      "tf_res50_net/block4/unit_1/bottleneck_v1/conv2/BatchNorm/moving_mean (DT_FLOAT) [512]\n",
      "tf_res50_net/block4/unit_1/bottleneck_v1/conv2/BatchNorm/moving_variance (DT_FLOAT) [512]\n",
      "tf_res50_net/block4/unit_1/bottleneck_v1/conv2/weights (DT_FLOAT) [3,3,512,512]\n",
      "tf_res50_net/block4/unit_1/bottleneck_v1/conv3/BatchNorm/beta (DT_FLOAT) [2048]\n",
      "tf_res50_net/block4/unit_1/bottleneck_v1/conv3/BatchNorm/gamma (DT_FLOAT) [2048]\n",
      "tf_res50_net/block4/unit_1/bottleneck_v1/conv3/BatchNorm/moving_mean (DT_FLOAT) [2048]\n",
      "tf_res50_net/block4/unit_1/bottleneck_v1/conv3/BatchNorm/moving_variance (DT_FLOAT) [2048]\n",
      "tf_res50_net/block4/unit_1/bottleneck_v1/conv3/weights (DT_FLOAT) [1,1,512,2048]\n",
      "tf_res50_net/block4/unit_1/bottleneck_v1/shortcut/BatchNorm/beta (DT_FLOAT) [2048]\n",
      "tf_res50_net/block4/unit_1/bottleneck_v1/shortcut/BatchNorm/gamma (DT_FLOAT) [2048]\n",
      "tf_res50_net/block4/unit_1/bottleneck_v1/shortcut/BatchNorm/moving_mean (DT_FLOAT) [2048]\n",
      "tf_res50_net/block4/unit_1/bottleneck_v1/shortcut/BatchNorm/moving_variance (DT_FLOAT) [2048]\n",
      "tf_res50_net/block4/unit_1/bottleneck_v1/shortcut/weights (DT_FLOAT) [1,1,1024,2048]\n",
      "tf_res50_net/block4/unit_2/bottleneck_v1/conv1/BatchNorm/beta (DT_FLOAT) [512]\n",
      "tf_res50_net/block4/unit_2/bottleneck_v1/conv1/BatchNorm/gamma (DT_FLOAT) [512]\n",
      "tf_res50_net/block4/unit_2/bottleneck_v1/conv1/BatchNorm/moving_mean (DT_FLOAT) [512]\n",
      "tf_res50_net/block4/unit_2/bottleneck_v1/conv1/BatchNorm/moving_variance (DT_FLOAT) [512]\n",
      "tf_res50_net/block4/unit_2/bottleneck_v1/conv1/weights (DT_FLOAT) [1,1,2048,512]\n",
      "tf_res50_net/block4/unit_2/bottleneck_v1/conv2/BatchNorm/beta (DT_FLOAT) [512]\n",
      "tf_res50_net/block4/unit_2/bottleneck_v1/conv2/BatchNorm/gamma (DT_FLOAT) [512]\n",
      "tf_res50_net/block4/unit_2/bottleneck_v1/conv2/BatchNorm/moving_mean (DT_FLOAT) [512]\n",
      "tf_res50_net/block4/unit_2/bottleneck_v1/conv2/BatchNorm/moving_variance (DT_FLOAT) [512]\n",
      "tf_res50_net/block4/unit_2/bottleneck_v1/conv2/weights (DT_FLOAT) [3,3,512,512]\n",
      "tf_res50_net/block4/unit_2/bottleneck_v1/conv3/BatchNorm/beta (DT_FLOAT) [2048]\n",
      "tf_res50_net/block4/unit_2/bottleneck_v1/conv3/BatchNorm/gamma (DT_FLOAT) [2048]\n",
      "tf_res50_net/block4/unit_2/bottleneck_v1/conv3/BatchNorm/moving_mean (DT_FLOAT) [2048]\n",
      "tf_res50_net/block4/unit_2/bottleneck_v1/conv3/BatchNorm/moving_variance (DT_FLOAT) [2048]\n",
      "tf_res50_net/block4/unit_2/bottleneck_v1/conv3/weights (DT_FLOAT) [1,1,512,2048]\n",
      "tf_res50_net/block4/unit_3/bottleneck_v1/conv1/BatchNorm/beta (DT_FLOAT) [512]\n",
      "tf_res50_net/block4/unit_3/bottleneck_v1/conv1/BatchNorm/gamma (DT_FLOAT) [512]\n",
      "tf_res50_net/block4/unit_3/bottleneck_v1/conv1/BatchNorm/moving_mean (DT_FLOAT) [512]\n",
      "tf_res50_net/block4/unit_3/bottleneck_v1/conv1/BatchNorm/moving_variance (DT_FLOAT) [512]\n",
      "tf_res50_net/block4/unit_3/bottleneck_v1/conv1/weights (DT_FLOAT) [1,1,2048,512]\n",
      "tf_res50_net/block4/unit_3/bottleneck_v1/conv2/BatchNorm/beta (DT_FLOAT) [512]\n",
      "tf_res50_net/block4/unit_3/bottleneck_v1/conv2/BatchNorm/gamma (DT_FLOAT) [512]\n",
      "tf_res50_net/block4/unit_3/bottleneck_v1/conv2/BatchNorm/moving_mean (DT_FLOAT) [512]\n",
      "tf_res50_net/block4/unit_3/bottleneck_v1/conv2/BatchNorm/moving_variance (DT_FLOAT) [512]\n",
      "tf_res50_net/block4/unit_3/bottleneck_v1/conv2/weights (DT_FLOAT) [3,3,512,512]\n",
      "tf_res50_net/block4/unit_3/bottleneck_v1/conv3/BatchNorm/beta (DT_FLOAT) [2048]\n",
      "tf_res50_net/block4/unit_3/bottleneck_v1/conv3/BatchNorm/gamma (DT_FLOAT) [2048]\n",
      "tf_res50_net/block4/unit_3/bottleneck_v1/conv3/BatchNorm/moving_mean (DT_FLOAT) [2048]\n",
      "tf_res50_net/block4/unit_3/bottleneck_v1/conv3/BatchNorm/moving_variance (DT_FLOAT) [2048]\n",
      "tf_res50_net/block4/unit_3/bottleneck_v1/conv3/weights (DT_FLOAT) [1,1,512,2048]\n",
      "tf_res50_net/conv1/BatchNorm/beta (DT_FLOAT) [64]\n",
      "tf_res50_net/conv1/BatchNorm/gamma (DT_FLOAT) [64]\n",
      "tf_res50_net/conv1/BatchNorm/moving_mean (DT_FLOAT) [64]\n",
      "tf_res50_net/conv1/BatchNorm/moving_variance (DT_FLOAT) [64]\n",
      "tf_res50_net/conv1/weights (DT_FLOAT) [7,7,3,64]\n",
      "tf_res50_net/logits/biases (DT_FLOAT) [1000]\n",
      "tf_res50_net/logits/weights (DT_FLOAT) [1,1,2048,1000]\n",
      "tf_res50_net/mean_rgb (DT_FLOAT) [3]\n",
      "\n"
     ]
    }
   ],
   "source": [
    "print_tensors_in_checkpoint_file('/media/yifeng/Yifeng_Seagate/Pretrained-ckpts/tf_res50/res50_init.ckpt',None, None)"
   ]
  },
  {
   "cell_type": "code",
   "execution_count": 12,
   "metadata": {},
   "outputs": [
    {
     "data": {
      "text/plain": [
       "'global_step'"
      ]
     },
     "execution_count": 12,
     "metadata": {},
     "output_type": "execute_result"
    }
   ],
   "source": [
    "res_tensor_names[0]"
   ]
  }
 ],
 "metadata": {
  "kernelspec": {
   "display_name": "Python 3",
   "language": "python",
   "name": "python3"
  },
  "language_info": {
   "codemirror_mode": {
    "name": "ipython",
    "version": 3
   },
   "file_extension": ".py",
   "mimetype": "text/x-python",
   "name": "python",
   "nbconvert_exporter": "python",
   "pygments_lexer": "ipython3",
   "version": "3.5.2"
  }
 },
 "nbformat": 4,
 "nbformat_minor": 2
}
