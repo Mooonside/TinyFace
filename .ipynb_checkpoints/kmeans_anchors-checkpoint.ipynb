{
 "cells": [
  {
   "cell_type": "code",
   "execution_count": 1,
   "metadata": {},
   "outputs": [],
   "source": [
    "import json\n",
    "import numpy as np\n",
    "import xml.etree.ElementTree as ET\n",
    "import os\n",
    "\n",
    "from __future__ import division"
   ]
  },
  {
   "cell_type": "code",
   "execution_count": 3,
   "metadata": {},
   "outputs": [],
   "source": [
    "data_path = '/media/yifeng/Yifeng_Seagate/DataSets/gree_dataset/Annotations'\n",
    "fname = sorted(os.listdir(data_path))"
   ]
  },
  {
   "cell_type": "code",
   "execution_count": 4,
   "metadata": {},
   "outputs": [
    {
     "name": "stdout",
     "output_type": "stream",
     "text": [
      "BOX WITH 0 AREA! : /media/yifeng/Yifeng_Seagate/DataSets/gree_dataset/Annotations/112.xml So deprecated\n",
      "(4711, 4)\n"
     ]
    }
   ],
   "source": [
    "bboxes = []\n",
    "for name in fname:\n",
    "    name = os.path.join(data_path, name)\n",
    "    tree = ET.parse(name)\n",
    "    root = tree.getroot()\n",
    "    for bbox in root.findall('object'):\n",
    "        box = bbox.find('bndbox')\n",
    "        box = [box.find('xmin'), box.find('ymin'), box.find('xmax'), box.find('ymax')]\n",
    "        box = [ int(i.text) for i in box ]\n",
    "        area = (box[2] - box[0]) * (box[3] - box[1])\n",
    "        if area <= 0:\n",
    "            print \"BOX WITH 0 AREA! : {} So deprecated\".format(name)\n",
    "        else:\n",
    "            bboxes.append(box)\n",
    "bboxes = np.asarray(bboxes)\n",
    "print bboxes.shape"
   ]
  },
  {
   "cell_type": "markdown",
   "metadata": {},
   "source": [
    "## change bboxes into center style"
   ]
  },
  {
   "cell_type": "code",
   "execution_count": 5,
   "metadata": {},
   "outputs": [
    {
     "name": "stdout",
     "output_type": "stream",
     "text": [
      "(4711, 4)\n"
     ]
    }
   ],
   "source": [
    "width = bboxes[:, 2] - bboxes[:, 0]\n",
    "height = bboxes[: ,3] - bboxes[:, 1]\n",
    "bboxes = np.asarray([-width/2, -height/2, width/2 , height/2]).T\n",
    "print bboxes.shape"
   ]
  },
  {
   "cell_type": "code",
   "execution_count": 30,
   "metadata": {},
   "outputs": [
    {
     "data": {
      "image/png": "[encoded data removed]",
      "text/plain": [
       "<matplotlib.figure.Figure at 0x7fb1c8782150>"
      ]
     },
     "metadata": {},
     "output_type": "display_data"
    }
   ],
   "source": [
    "import matplotlib.pyplot as plt\n",
    "\n",
    "plt.hist(height, bins=30, label='height')\n",
    "plt.hist(width, bins=30, label='width')\n",
    "plt.title(\"Histogram\")\n",
    "# plt.xlabel(\"Value\")\n",
    "# plt.ylabel(\"Counts\")\n",
    "\n",
    "# fig = plt.gcf()\n",
    "# plt.show()\n",
    "\n",
    "# plt.hist(width, bins=30)\n",
    "# plt.title(\"Width Histogram\")\n",
    "plt.xlabel(\"Value\")\n",
    "plt.ylabel(\"Counts\")\n",
    "plt.legend()\n",
    "\n",
    "fig = plt.gcf()\n",
    "plt.show()"
   ]
  },
  {
   "cell_type": "code",
   "execution_count": 7,
   "metadata": {},
   "outputs": [],
   "source": [
    "def jaccard_distance(bboxes, means):\n",
    "    \"\"\"takes [N, 4] bboxes, [K, 4] means returns [K, N] jaccard distance.\n",
    "    \"\"\"\n",
    "    N = bboxes.shape[0]\n",
    "    K = means.shape[0]\n",
    "#         \n",
    "    assert np.any(bboxes[:, 2] >= bboxes[:, 0])\n",
    "    assert np.any(bboxes[:, 3] >= bboxes[:, 1])\n",
    "    assert np.any(means[:, 2] >= means[:, 0])\n",
    "    assert np.any(means[:, 3] >= means[:, 1])\n",
    "    \n",
    "    xmin, ymin, xmax, ymax = np.split(bboxes, 4, axis=1)\n",
    "    means_area = (means[:,2] - means[:, 0]) * (means[:,3] - means[:, 1]) \n",
    "    bboxes_area = (xmax - xmin) * (ymax - ymin)\n",
    "    assert np.all(bboxes_area != 0)\n",
    "    jaccards = np.zeros([K, N], dtype=np.float32)\n",
    "    \n",
    "    for idx, box in enumerate(means):\n",
    "        i_minx = np.maximum(xmin, box[0])\n",
    "        i_maxx = np.minimum(xmax, box[2])\n",
    "        i_miny = np.maximum(ymin, box[1])\n",
    "        i_maxy = np.minimum(ymax, box[3])\n",
    "\n",
    "        b_area = (box[2] - box[0]) * (box[3] - box[1])\n",
    "        assert b_area == means_area[idx], '{}, {}\\n'.format(b_area, means_area[idx])\n",
    "        \n",
    "        i_area = np.maximum((i_maxx - i_minx),0) * np.maximum((i_maxy - i_miny),0)\n",
    "        u_area = bboxes_area + b_area - i_area\n",
    "        assert (np.all(u_area != 0)), \"{}\".format(np.where(u_area==0))\n",
    "        u_area = (u_area > 0) * (1.0 / u_area) + (u_area == 0) * 0\n",
    "        iou = i_area * u_area\n",
    "        jaccards[idx, :] = iou.flatten()\n",
    "    return jaccards\n",
    "\n",
    "def k_means(bboxes, K, init=None, dis_func = jaccard_distance, cvg_th=1e-3, max_iter=1e3, verbose=False):\n",
    "    # initialization\n",
    "    N = bboxes.shape[0]\n",
    "    assert N >= np.unique(bboxes, axis=0).shape[0], 'Too Much Clusters! Try reduce K to less than {}！'\\\n",
    "                                                        .format(np.unique(bboxes, axis=0).shape[0])    \n",
    "    if init is None:\n",
    "        minw, maxw, minh, maxh = np.min(bboxes[:,2]), np.max(bboxes[:,2]), np.min(bboxes[:,3]), np.max(bboxes[:,3]) \n",
    "        epsilon = 1e-2\n",
    "        randw = np.random.uniform(minw-epsilon, maxw+epsilon, size=[K])\n",
    "        randh = np.random.uniform(minh-epsilon, maxh+epsilon, size=[K])\n",
    "        means = np.asarray([-randw, -randh, randw, randh]).T\n",
    "        if verbose:\n",
    "            print(\"Input BBOXS HAVE W : [{} to {}] H:[{} to {}]\".format(minw, maxw, minh, maxh))\n",
    "    else:\n",
    "        assert init.shape == (K, 4)\n",
    "        means = init\n",
    "        \n",
    "    if cvg_th is None:\n",
    "        cvg_th = 0\n",
    "    \n",
    "    for it in range(int(max_iter)):\n",
    "        # assign\n",
    "        distance = dis_func(bboxes, means)\n",
    "        belongs = np.argmax(distance, axis=0)\n",
    "\n",
    "        # update\n",
    "        new = np.zeros([K, 4], dtype=np.float32)\n",
    "        cnt = np.zeros([K, 1])\n",
    "        for i in range(N):\n",
    "            new[belongs[i],:] += bboxes[i, :]\n",
    "            cnt[belongs[i]] += 1\n",
    "        for i in range(K):\n",
    "            if cnt[i] == 0:\n",
    "                # set to a new random mean\n",
    "                randw = np.random.uniform(minw-epsilon, maxw+epsilon, size=1)\n",
    "                randh = np.random.uniform(minh-epsilon, maxh+epsilon, size=1)\n",
    "                means = np.asarray([-randw, -randh, randw, randh]).flatten()\n",
    "                new[i, :] = means\n",
    "            else:\n",
    "                new[i, :] /= cnt[i]\n",
    "        metric = np.max(np.abs(new - means))\n",
    "        if it % 10 == 0 and verbose:\n",
    "            print(\"Iter : {} with {:.3f} still changing\"\\\n",
    "                  .format(it, metric))\n",
    "        if metric < cvg_th:\n",
    "            break\n",
    "        means = new\n",
    "    \n",
    "    keys = means[:,2]\n",
    "    sorted_idx = np.argsort(-keys)\n",
    "    \n",
    "    if verbose:\n",
    "        print(\"Final Belongings:\")\n",
    "        for idx in range(K) : print(\"{}:{}\".format(idx, cnt[sorted_idx[idx]])),\n",
    "        print(\"\\n\")\n",
    "    \n",
    "    return means[sorted_idx, :]"
   ]
  },
  {
   "cell_type": "code",
   "execution_count": 9,
   "metadata": {},
   "outputs": [
    {
     "name": "stdout",
     "output_type": "stream",
     "text": [
      "Input BBOXS HAVE W : [1.5 to 68.0] H:[1.5 to 83.0]\n",
      "Iter : 0 with 51.326 still changing\n",
      "Iter : 10 with 0.839 still changing\n",
      "Iter : 20 with 0.265 still changing\n",
      "Iter : 30 with 0.120 still changing\n",
      "Iter : 40 with 0.108 still changing\n",
      "Iter : 50 with 0.000 still changing\n",
      "Final Belongings:\n",
      "0:[ 3.] 1:[ 11.] 2:[ 8.] 3:[ 9.] 4:[ 4.] 5:[ 11.] 6:[ 29.] 7:[ 221.] 8:[ 71.] 9:[ 86.] 10:[ 178.] 11:[ 297.] 12:[ 128.] 13:[ 240.] 14:[ 182.] 15:[ 284.] 16:[ 398.] 17:[ 156.] 18:[ 566.] 19:[ 148.] 20:[ 668.] 21:[ 485.] 22:[ 106.] 23:[ 420.] 24:[ 2.] \n",
      "\n",
      "Input BBOXS HAVE W : [1.5 to 68.0] H:[1.5 to 83.0]\n",
      "Iter : 0 with 50.832 still changing\n",
      "Iter : 10 with 0.910 still changing\n",
      "Iter : 20 with 0.259 still changing\n",
      "Iter : 30 with 0.315 still changing\n",
      "Iter : 40 with 0.018 still changing\n",
      "Final Belongings:\n",
      "0:[ 3.] 1:[ 15.] 2:[ 9.] 3:[ 13.] 4:[ 24.] 5:[ 67.] 6:[ 193.] 7:[ 68.] 8:[ 139.] 9:[ 305.] 10:[ 214.] 11:[ 205.] 12:[ 103.] 13:[ 189.] 14:[ 312.] 15:[ 415.] 16:[ 121.] 17:[ 586.] 18:[ 215.] 19:[ 41.] 20:[ 522.] 21:[ 444.] 22:[ 99.] 23:[ 407.] 24:[ 2.] \n",
      "\n",
      "Maximum Difference:0.462924331427\n"
     ]
    }
   ],
   "source": [
    "means1 = k_means(bboxes, 25, cvg_th=1e-10, max_iter=200, verbose=True)\n",
    "means2 = k_means(bboxes, 25, cvg_th=1e-10, max_iter=200, verbose=True)\n",
    "print(\"Maximum Difference:{}\".format(np.max(np.abs(means1 - means2) / np.abs(means1))))"
   ]
  },
  {
   "cell_type": "code",
   "execution_count": 10,
   "metadata": {
    "scrolled": false
   },
   "outputs": [
    {
     "data": {
      "text/plain": [
       "(array([[-62.5       , -82.5       ,  62.5       ,  82.5       ],\n",
       "        [-54.22727203, -62.54545593,  54.22727203,  62.54545593],\n",
       "        [-50.5625    , -42.        ,  50.5625    ,  42.        ],\n",
       "        [-46.66666794, -69.83333588,  46.66666794,  69.83333588],\n",
       "        [-46.375     , -76.125     ,  46.375     ,  76.125     ],\n",
       "        [-45.95454407, -60.59090805,  45.95454407,  60.59090805],\n",
       "        [-41.43103409, -52.89655304,  41.43103409,  52.89655304],\n",
       "        [-37.23529434, -29.16742134,  37.23529434,  29.16742134],\n",
       "        [-36.5633812 , -39.09859085,  36.5633812 ,  39.09859085],\n",
       "        [-36.3139534 , -45.9186058 ,  36.3139534 ,  45.9186058 ],\n",
       "        [-30.97752762, -40.53932571,  30.97752762,  40.53932571],\n",
       "        [-30.43770981, -32.88215637,  30.43770981,  32.88215637],\n",
       "        [-29.30078125, -19.54296875,  29.30078125,  19.54296875],\n",
       "        [-28.53125   , -25.92708397,  28.53125   ,  25.92708397],\n",
       "        [-25.5357151 , -38.17582321,  25.5357151 ,  38.17582321],\n",
       "        [-24.14436531, -30.38908386,  24.14436531,  30.38908386],\n",
       "        [-21.3844223 , -24.86683464,  21.3844223 ,  24.86683464],\n",
       "        [-20.16666603, -14.34615421,  20.16666603,  14.34615421],\n",
       "        [-17.63074112, -20.76590157,  17.63074112,  20.76590157],\n",
       "        [-16.45270348, -28.58108139,  16.45270348,  28.58108139],\n",
       "        [-14.45134735, -17.74550819,  14.45134735,  17.74550819],\n",
       "        [-11.22577286, -12.82783508,  11.22577286,  12.82783508],\n",
       "        [ -9.48584938, -21.98113251,   9.48584938,  21.98113251],\n",
       "        [ -7.58214283,  -8.98928547,   7.58214283,   8.98928547],\n",
       "        [ -1.75      ,  -1.5       ,   1.75      ,   1.5       ]], dtype=float32),\n",
       " array([[-62.5       , -82.5       ,  62.5       ,  82.5       ],\n",
       "        [-52.73333359, -62.13333511,  52.73333359,  62.13333511],\n",
       "        [-50.38888931, -43.        ,  50.38888931,  43.        ],\n",
       "        [-46.38461685, -71.65384674,  46.38461685,  71.65384674],\n",
       "        [-42.875     , -56.1875    ,  42.875     ,  56.1875    ],\n",
       "        [-37.85074615, -47.3582077 ,  37.85074615,  47.3582077 ],\n",
       "        [-37.70984268, -28.99481773,  37.70984268,  28.99481773],\n",
       "        [-36.76470566, -38.96323395,  36.76470566,  38.96323395],\n",
       "        [-32.49640274, -42.0611496 ,  32.49640274,  42.0611496 ],\n",
       "        [-30.84098434, -31.7442627 ,  30.84098434,  31.7442627 ],\n",
       "        [-29.4976635 , -24.15420532,  29.4976635 ,  24.15420532],\n",
       "        [-28.47317123, -38.26829147,  28.47317123,  38.26829147],\n",
       "        [-26.91747665, -17.88349533,  26.91747665,  17.88349533],\n",
       "        [-24.38888931, -35.09523773,  24.38888931,  35.09523773],\n",
       "        [-24.37339783, -27.98077011,  24.37339783,  27.98077011],\n",
       "        [-20.46747017, -24.37469864,  20.46747017,  24.37469864],\n",
       "        [-19.40909004, -13.35537148,  19.40909004,  13.35537148],\n",
       "        [-16.96928406, -19.43173981,  16.96928406,  19.43173981],\n",
       "        [-16.3488369 , -24.42325592,  16.3488369 ,  24.42325592],\n",
       "        [-15.81707287, -35.97560883,  15.81707287,  35.97560883],\n",
       "        [-13.80938721, -17.09770203,  13.80938721,  17.09770203],\n",
       "        [-10.99099064, -12.56306267,  10.99099064,  12.56306267],\n",
       "        [ -9.27777767, -21.94444466,   9.27777767,  21.94444466],\n",
       "        [ -7.54299736,  -8.91277599,   7.54299736,   8.91277599],\n",
       "        [ -1.75      ,  -1.5       ,   1.75      ,   1.5       ]], dtype=float32))"
      ]
     },
     "execution_count": 10,
     "metadata": {},
     "output_type": "execute_result"
    }
   ],
   "source": [
    "means1, means2"
   ]
  },
  {
   "cell_type": "code",
   "execution_count": 12,
   "metadata": {},
   "outputs": [],
   "source": [
    "np.save('Anchors.npy', means1)"
   ]
  }
 ],
 "metadata": {
  "kernelspec": {
   "display_name": "Python 2",
   "language": "python",
   "name": "python2"
  },
  "language_info": {
   "codemirror_mode": {
    "name": "ipython",
    "version": 2
   },
   "file_extension": ".py",
   "mimetype": "text/x-python",
   "name": "python",
   "nbconvert_exporter": "python",
   "pygments_lexer": "ipython2",
   "version": "2.7.12"
  }
 },
 "nbformat": 4,
 "nbformat_minor": 2
}
