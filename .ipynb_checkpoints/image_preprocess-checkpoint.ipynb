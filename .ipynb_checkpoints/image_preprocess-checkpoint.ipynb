{
 "cells": [
  {
   "cell_type": "markdown",
   "metadata": {},
   "source": [
    "## load dataset provider"
   ]
  },
  {
   "cell_type": "code",
   "execution_count": 1,
   "metadata": {},
   "outputs": [],
   "source": [
    "%load_ext autoreload\n",
    "%autoreload 2"
   ]
  },
  {
   "cell_type": "code",
   "execution_count": 2,
   "metadata": {},
   "outputs": [],
   "source": [
    "import tensorflow as tf\n",
    "slim = tf.contrib.slim"
   ]
  },
  {
   "cell_type": "code",
   "execution_count": 3,
   "metadata": {},
   "outputs": [],
   "source": [
    "from datasets import dataset_factory"
   ]
  },
  {
   "cell_type": "code",
   "execution_count": 4,
   "metadata": {},
   "outputs": [],
   "source": [
    "class FLAGS(object):\n",
    "    def __init__(self):\n",
    "        return"
   ]
  },
  {
   "cell_type": "code",
   "execution_count": 72,
   "metadata": {},
   "outputs": [],
   "source": [
    "FLAGS.num_readers = 4\n",
    "FLAGS.batch_size=32\n",
    "FLAGS.dataset_name = 'gree'\n",
    "FLAGS.dataset_split_name = 'train'\n",
    "FLAGS.dataset_dir = '/home/yifeng/Link\\ to\\ DataSets/gree_dataset/tf_records/'\n",
    "FLAGS.num_preprocessing_threads=4"
   ]
  },
  {
   "cell_type": "code",
   "execution_count": 6,
   "metadata": {},
   "outputs": [],
   "source": [
    "dataset = dataset_factory.get_dataset(\n",
    "      FLAGS.dataset_name, FLAGS.dataset_split_name, FLAGS.dataset_dir)"
   ]
  },
  {
   "cell_type": "code",
   "execution_count": 7,
   "metadata": {},
   "outputs": [],
   "source": [
    "provider = slim.dataset_data_provider.DatasetDataProvider(\n",
    "  dataset,\n",
    "  num_readers=FLAGS.num_readers,\n",
    "  common_queue_capacity=20 * FLAGS.batch_size,\n",
    "  common_queue_min=10 * FLAGS.batch_size,\n",
    "  shuffle=True)"
   ]
  },
  {
   "cell_type": "markdown",
   "metadata": {},
   "source": [
    "# Create a read operation(in tf graph)"
   ]
  },
  {
   "cell_type": "code",
   "execution_count": 8,
   "metadata": {},
   "outputs": [],
   "source": [
    "from preprocess.gree_preprocess import *"
   ]
  },
  {
   "cell_type": "code",
   "execution_count": 9,
   "metadata": {},
   "outputs": [],
   "source": [
    "[image, shape, glabels, gbboxes] = provider.get(['image', 'shape',\n",
    "                                               'object/label',\n",
    "                                               'object/bbox'])"
   ]
  },
  {
   "cell_type": "code",
   "execution_count": 10,
   "metadata": {},
   "outputs": [],
   "source": [
    "image, glabels, gbboxes = \\\n",
    "preprocess_for_train(image, glabels, gbboxes,\n",
    "                       out_shape=(500, 500))"
   ]
  },
  {
   "cell_type": "code",
   "execution_count": 12,
   "metadata": {},
   "outputs": [
    {
     "name": "stdout",
     "output_type": "stream",
     "text": [
      "Tensor(\"gree_preprocessing_train/sub:0\", shape=(300, 300, 3), dtype=float32) Tensor(\"gree_preprocessing_train/distorted_bounding_box_crop/bboxes_filter/boolean_mask/Gather:0\", shape=(?,), dtype=int64) Tensor(\"gree_preprocessing_train/random_flip_left_right/cond_1/Merge:0\", shape=(?, 4), dtype=float32)\n"
     ]
    }
   ],
   "source": [
    "print(image, glabels, gbboxes)"
   ]
  },
  {
   "cell_type": "markdown",
   "metadata": {},
   "source": [
    "# Encode groundtruth labels and bboxes.\n",
    "- convert feature-scale bboxing to input-scale\n",
    "- match every anchor_bbox with corresponding gt_bboxes"
   ]
  },
  {
   "cell_type": "code",
   "execution_count": 43,
   "metadata": {},
   "outputs": [],
   "source": [
    "from nets.tinyface_common import ANCHOR_SIZES"
   ]
  },
  {
   "cell_type": "code",
   "execution_count": 61,
   "metadata": {},
   "outputs": [],
   "source": [
    "from nets.tinyface import TinyFace\n",
    "model = TinyFace(None)\n",
    "tf_anchors = model.anchors()"
   ]
  },
  {
   "cell_type": "markdown",
   "metadata": {},
   "source": [
    "- gt_bboxes is relative style(i.e.) in range [0, 1)\n",
    "- Anchors in  aboslute style => change into relative style"
   ]
  },
  {
   "cell_type": "code",
   "execution_count": 66,
   "metadata": {},
   "outputs": [],
   "source": [
    "gclasses, glocalisations, gscores = \\\n",
    "  model.bboxes_encode(glabels, gbboxes, tf_anchors)"
   ]
  },
  {
   "cell_type": "code",
   "execution_count": 70,
   "metadata": {},
   "outputs": [
    {
     "name": "stdout",
     "output_type": "stream",
     "text": [
      "Tensor(\"while_7/Exit_1:0\", shape=(14, 14, 25), dtype=int64) Tensor(\"stack:0\", shape=(14, 14, 25, 4), dtype=float32) Tensor(\"while_7/Exit_2:0\", shape=(14, 14, 25), dtype=float32)\n"
     ]
    }
   ],
   "source": [
    "# gscores is the highest iou of anchor box among all grounf truth boxes\n",
    "# for those matches , glocalisations is the truth directly correspond to the outputs of the model\n",
    "#                     gclasses is the label id (i.e. 1)\n",
    "# for those un-matched, glocalisations is the all-image. （i.e.[0,0,1,1]）\n",
    "#                     gclasses id 0\n",
    "print(gclasses, glocalisations, gscores)"
   ]
  },
  {
   "cell_type": "markdown",
   "metadata": {},
   "source": [
    "# fetch into batch"
   ]
  },
  {
   "cell_type": "code",
   "execution_count": 73,
   "metadata": {},
   "outputs": [],
   "source": [
    "b_image, b_gclasses, b_glocalisations, b_gscores = tf.train.batch(\n",
    "  [image, gclasses, glocalisations, gscores],\n",
    "  batch_size=FLAGS.batch_size,\n",
    "  num_threads=FLAGS.num_preprocessing_threads,\n",
    "  capacity=5 * FLAGS.batch_size)"
   ]
  },
  {
   "cell_type": "code",
   "execution_count": 76,
   "metadata": {},
   "outputs": [
    {
     "name": "stdout",
     "output_type": "stream",
     "text": [
      "Tensor(\"batch:0\", shape=(32, 300, 300, 3), dtype=float32) Tensor(\"batch:1\", shape=(32, 14, 14, 25), dtype=int64) Tensor(\"batch:2\", shape=(32, 14, 14, 25, 4), dtype=float32) Tensor(\"batch:3\", shape=(32, 14, 14, 25), dtype=float32)\n"
     ]
    }
   ],
   "source": [
    "print(b_image, b_gclasses, b_glocalisations, b_gscores)"
   ]
  }
 ],
 "metadata": {
  "kernelspec": {
   "display_name": "Python 3",
   "language": "python",
   "name": "python3"
  },
  "language_info": {
   "codemirror_mode": {
    "name": "ipython",
    "version": 3
   },
   "file_extension": ".py",
   "mimetype": "text/x-python",
   "name": "python",
   "nbconvert_exporter": "python",
   "pygments_lexer": "ipython3",
   "version": "3.5.2"
  }
 },
 "nbformat": 4,
 "nbformat_minor": 1
}
